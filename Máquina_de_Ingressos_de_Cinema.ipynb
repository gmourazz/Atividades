{
  "nbformat": 4,
  "nbformat_minor": 0,
  "metadata": {
    "colab": {
      "provenance": [],
      "authorship_tag": "ABX9TyOLLu+hMA2opNvoHNtxm2nl",
      "include_colab_link": true
    },
    "kernelspec": {
      "name": "python3",
      "display_name": "Python 3"
    },
    "language_info": {
      "name": "python"
    }
  },
  "cells": [
    {
      "cell_type": "markdown",
      "metadata": {
        "id": "view-in-github",
        "colab_type": "text"
      },
      "source": [
        "<a href=\"https://colab.research.google.com/github/gmourazz/Atividades/blob/main/M%C3%A1quina_de_Ingressos_de_Cinema.ipynb\" target=\"_parent\"><img src=\"https://colab.research.google.com/assets/colab-badge.svg\" alt=\"Open In Colab\"/></a>"
      ]
    },
    {
      "cell_type": "code",
      "source": [
        "# Bem-vindo à Máquina de Venda Automática de Ingressos de Cinema!\n",
        "\n",
        "# Solicita a idade do cliente\n",
        "idade = int(input(\"Por favor, digite sua idade: \"))\n",
        "\n",
        "# Verifica a idade para sugestão de filmes\n",
        "if idade < 12:\n",
        "    print(\"Recomendamos o filme infantil FILME 1.\")\n",
        "elif 12 <= idade < 18:\n",
        "    print(\"Recomendamos o filme adolescente FILME 2.\")\n",
        "else:\n",
        "    print(\"Recomendamos o emocionante FILME 3.\")\n",
        "\n",
        "# Verifica a disponibilidade de ingressos\n",
        "quantidade_ingressos = 10  # Suponha que haja 10 ingressos disponíveis\n",
        "\n",
        "if quantidade_ingressos > 0:\n",
        "    print(\"Ingressos estão disponíveis. Divirta-se no cinema!\")\n",
        "else:\n",
        "    print(\"Desculpe, todos os ingressos estão esgotados para hoje.\")"
      ],
      "metadata": {
        "colab": {
          "base_uri": "https://localhost:8080/"
        },
        "id": "ICxtYpNvCCdu",
        "outputId": "0b05ea42-062b-4574-de01-5dd15d3e4d38"
      },
      "execution_count": 5,
      "outputs": [
        {
          "output_type": "stream",
          "name": "stdout",
          "text": [
            "Por favor, digite sua idade: 12\n",
            "Recomendamos o filme adolescente FILME 2.\n",
            "Ingressos estão disponíveis. Divirta-se no cinema!\n"
          ]
        }
      ]
    }
  ]
}