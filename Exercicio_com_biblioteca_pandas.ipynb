{
  "nbformat": 4,
  "nbformat_minor": 0,
  "metadata": {
    "colab": {
      "provenance": [],
      "authorship_tag": "ABX9TyObgx2JXpUXSKfdUyqunXVO",
      "include_colab_link": true
    },
    "kernelspec": {
      "name": "python3",
      "display_name": "Python 3"
    },
    "language_info": {
      "name": "python"
    }
  },
  "cells": [
    {
      "cell_type": "markdown",
      "metadata": {
        "id": "view-in-github",
        "colab_type": "text"
      },
      "source": [
        "<a href=\"https://colab.research.google.com/github/gmourazz/Atividades/blob/main/Exercicio_com_biblioteca_pandas.ipynb\" target=\"_parent\"><img src=\"https://colab.research.google.com/assets/colab-badge.svg\" alt=\"Open In Colab\"/></a>"
      ]
    },
    {
      "cell_type": "code",
      "execution_count": 1,
      "metadata": {
        "id": "s1o1WjPjZ_nB"
      },
      "outputs": [],
      "source": [
        "import pandas as pd"
      ]
    },
    {
      "cell_type": "code",
      "source": [
        "import pandas as pd  # Não se esqueça de importar a biblioteca pandas\n",
        "\n",
        "# Criar um dicionário com nomes e idades\n",
        "dados = {\n",
        "    'Nome': ['Alice', 'Bob', 'Carol', 'David', 'Eve'],\n",
        "    'Idade': [25, 30, 22, 35, 28]\n",
        "}\n",
        "\n",
        "# Criar uma série a partir do dicionário\n",
        "serie_idades = pd.Series(dados['Idade'], index=dados['Nome'])\n",
        "\n",
        "# Exibir a série de idades\n",
        "print(\"Série de Idades:\")\n",
        "print(serie_idades)\n",
        "\n",
        "# Calcular a média das idades\n",
        "media_idades = serie_idades.mean()\n",
        "print(\"\\nMédia de Idades:\", media_idades)"
      ],
      "metadata": {
        "colab": {
          "base_uri": "https://localhost:8080/"
        },
        "id": "Mo15EYcUaucC",
        "outputId": "cf67aa94-36e2-40fb-913b-127d83482aa7"
      },
      "execution_count": 7,
      "outputs": [
        {
          "output_type": "stream",
          "name": "stdout",
          "text": [
            "Série de Idades:\n",
            "Alice    25\n",
            "Bob      30\n",
            "Carol    22\n",
            "David    35\n",
            "Eve      28\n",
            "dtype: int64\n",
            "\n",
            "Média de Idades: 28.0\n"
          ]
        }
      ]
    }
  ]
}